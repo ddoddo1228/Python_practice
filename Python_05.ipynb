{
 "cells": [
  {
   "cell_type": "markdown",
   "id": "83741d0c",
   "metadata": {},
   "source": [
    "### 1. 다음 코드의 실행 결과로 알맞은 것은?\n",
    "\n",
    "a=11\n",
    "b=9\n",
    "\n",
    "print('a'+'b')"
   ]
  },
  {
   "cell_type": "code",
   "execution_count": 1,
   "id": "32007ac5",
   "metadata": {},
   "outputs": [
    {
     "name": "stdout",
     "output_type": "stream",
     "text": [
      "ab\n"
     ]
    }
   ],
   "source": [
    "a=11\n",
    "b=9\n",
    "\n",
    "print('a'+'b')"
   ]
  },
  {
   "cell_type": "markdown",
   "id": "59d2b1d5",
   "metadata": {},
   "source": [
    "### 2. 다음 코드의 실행 결과로 알맞은 것은?\n",
    "\n",
    "fact=\"Python is funny\"\n",
    "\n",
    "print(str(fact.count('n') + fact.find('n')+fact.rfind('n')))"
   ]
  },
  {
   "cell_type": "code",
   "execution_count": 2,
   "id": "d9980b6a",
   "metadata": {},
   "outputs": [
    {
     "name": "stdout",
     "output_type": "stream",
     "text": [
      "21\n"
     ]
    }
   ],
   "source": [
    "fact=\"Python is funny\"\n",
    "\n",
    "print(str(fact.count('n') + fact.find('n')+fact.rfind('n')))"
   ]
  },
  {
   "cell_type": "markdown",
   "id": "3db939b1",
   "metadata": {},
   "source": [
    "### 3. 다음 코드의 실행 결과로 알맞은 것은?\n",
    "\n",
    "text='Gachon CS50-programming with python'\n",
    "text2=\"Human cs50 knowledge belongs to the world\"\n",
    "\n",
    "text.lower()\n",
    "\n",
    "print(text[:5]+text[-1]+text[6]+text2.split()[0])"
   ]
  },
  {
   "cell_type": "code",
   "execution_count": 4,
   "id": "40c038d4",
   "metadata": {},
   "outputs": [
    {
     "name": "stdout",
     "output_type": "stream",
     "text": [
      "Gachon Human\n"
     ]
    }
   ],
   "source": [
    "text='Gachon CS50-programming with python'\n",
    "text2=\"Human cs50 knowledge belongs to the world\"\n",
    "\n",
    "text.lower()\n",
    "\n",
    "print(text[:5]+text[-1]+text[6]+text2.split()[0])"
   ]
  },
  {
   "cell_type": "markdown",
   "id": "9d528be7",
   "metadata": {},
   "source": [
    "### 4. 다음 코드의 실행 결과로 알맞은 것은?\n",
    "\n",
    "class_name='introduction programming with python'\n",
    "\n",
    "for i in class_name:\n",
    "    if i =='python':\n",
    "        i=i.upper()\n",
    "        \n",
    "print(class_name)"
   ]
  },
  {
   "cell_type": "code",
   "execution_count": 5,
   "id": "457a88f3",
   "metadata": {},
   "outputs": [
    {
     "name": "stdout",
     "output_type": "stream",
     "text": [
      "introduction programming with python\n"
     ]
    }
   ],
   "source": [
    "class_name='introduction programming with python'\n",
    "\n",
    "for i in class_name:\n",
    "    if i =='python':\n",
    "        i=i.upper()\n",
    "        \n",
    "print(class_name)"
   ]
  },
  {
   "cell_type": "markdown",
   "id": "3d79824e",
   "metadata": {},
   "source": [
    "### 5. 다음 코드의 실행 결과를 쓰시오.\n",
    "\n",
    "a='10'\n",
    "b='5-2'.split('-')[1]\n",
    "\n",
    "print(a*3+b)"
   ]
  },
  {
   "cell_type": "code",
   "execution_count": 6,
   "id": "1e647991",
   "metadata": {},
   "outputs": [
    {
     "name": "stdout",
     "output_type": "stream",
     "text": [
      "1010102\n"
     ]
    }
   ],
   "source": [
    "a='10'\n",
    "b='5-2'.split('-')[1]\n",
    "\n",
    "print(a*3+b)"
   ]
  },
  {
   "cell_type": "markdown",
   "id": "ea110f8b",
   "metadata": {},
   "source": [
    "### 6. 다음 코드의 실행 결과를 쓰시오.\n",
    "\n",
    "name=\"Hanbit\"\n",
    "a=name.find(\"H\")\n",
    "b=name.count(\"H\")*4\n",
    "c=len(name)*2+4\n",
    "print(\"REMEMBER\",str(a)+str(b)+str(c))"
   ]
  },
  {
   "cell_type": "code",
   "execution_count": 7,
   "id": "29486434",
   "metadata": {},
   "outputs": [
    {
     "name": "stdout",
     "output_type": "stream",
     "text": [
      "REMEMBER 0416\n"
     ]
    }
   ],
   "source": [
    "name=\"Hanbit\"\n",
    "a=name.find(\"H\")\n",
    "b=name.count(\"H\")*4\n",
    "c=len(name)*2+4\n",
    "print(\"REMEMBER\",str(a)+str(b)+str(c))"
   ]
  },
  {
   "cell_type": "markdown",
   "id": "9e6495f8",
   "metadata": {},
   "source": [
    "### 7. 다음 코드의 실행 결과를 쓰시오.\n",
    "\n",
    "a=\"abcd e f g\"\n",
    "b=a.split()\n",
    "c=(a[:3][0])\n",
    "d=(b[:3][0][0])\n",
    "\n",
    "print(c+d)"
   ]
  },
  {
   "cell_type": "code",
   "execution_count": 8,
   "id": "9c364dd1",
   "metadata": {},
   "outputs": [
    {
     "name": "stdout",
     "output_type": "stream",
     "text": [
      "aa\n"
     ]
    }
   ],
   "source": [
    "a=\"abcd e f g\"\n",
    "b=a.split()\n",
    "c=(a[:3][0])\n",
    "d=(b[:3][0][0])\n",
    "\n",
    "print(c+d)"
   ]
  },
  {
   "cell_type": "markdown",
   "id": "10ad5984",
   "metadata": {},
   "source": [
    "### 8. 다음 코드의 실행 결과가 다음과 같이 나올 수 있도록 빈칸에 코드를 작성하시오.\n",
    "\n",
    "number=10\n",
    "day=3\n",
    "print(\"I eat %d oranges every day.\"%number)\n",
    "\n",
    "number=10\n",
    "day=\"three\"\n",
    "\n",
    "@@@@@@@@@@@@@@@@@@@@@@@@@@@@@"
   ]
  },
  {
   "cell_type": "code",
   "execution_count": 10,
   "id": "1636a66c",
   "metadata": {},
   "outputs": [
    {
     "ename": "NameError",
     "evalue": "name 'number' is not defined",
     "output_type": "error",
     "traceback": [
      "\u001b[1;31m---------------------------------------------------------------------------\u001b[0m",
      "\u001b[1;31mNameError\u001b[0m                                 Traceback (most recent call last)",
      "\u001b[1;32m<ipython-input-10-0d0832a691fd>\u001b[0m in \u001b[0;36m<module>\u001b[1;34m\u001b[0m\n\u001b[1;32m----> 1\u001b[1;33m \u001b[0mprint\u001b[0m\u001b[1;33m(\u001b[0m\u001b[1;34m\"I eat %d oranges every\"\u001b[0m \u001b[1;33m%\u001b[0m\u001b[0mnumber\u001b[0m \u001b[1;33m,\u001b[0m\u001b[1;34m\"%s days\"\u001b[0m \u001b[1;33m%\u001b[0m\u001b[0mday\u001b[0m\u001b[1;33m)\u001b[0m\u001b[1;33m\u001b[0m\u001b[1;33m\u001b[0m\u001b[0m\n\u001b[0m",
      "\u001b[1;31mNameError\u001b[0m: name 'number' is not defined"
     ]
    }
   ],
   "source": [
    "print(\"I eat %d oranges every\" %number ,\"%s days\" %day)"
   ]
  },
  {
   "cell_type": "markdown",
   "id": "de4023cd",
   "metadata": {},
   "source": [
    "### 9. 다음 코드의 실행 결과를 쓰시오.\n",
    "\n",
    "result=\"CODE2018\"\n",
    "print(\"{0},{1}\".format(result[-1],result[-2]))"
   ]
  },
  {
   "cell_type": "code",
   "execution_count": 9,
   "id": "536ae5e2",
   "metadata": {},
   "outputs": [
    {
     "name": "stdout",
     "output_type": "stream",
     "text": [
      "8,1\n"
     ]
    }
   ],
   "source": [
    "result=\"CODE2018\"\n",
    "print(\"{0},{1}\".format(result[-1],result[-2]))"
   ]
  },
  {
   "cell_type": "markdown",
   "id": "7b8a3014",
   "metadata": {},
   "source": [
    "### 10. 다음 코드의 실행 결과가 다음과 같이 나올 수 있도록 빈칸에 코드를 작성하시오.\n",
    "\n",
    "str_a=\"this is\"\n",
    "str_b=\"PtYhoN\"\n",
    "print(str_a.가 \" \" + str_b.나)"
   ]
  },
  {
   "cell_type": "code",
   "execution_count": 11,
   "id": "c8fefc1f",
   "metadata": {},
   "outputs": [
    {
     "name": "stdout",
     "output_type": "stream",
     "text": [
      "This Is PTYHON\n"
     ]
    }
   ],
   "source": [
    "str_a=\"this is\"\n",
    "str_b=\"PtYhoN\"\n",
    "print(str_a.title() + \" \" + str_b.upper())"
   ]
  },
  {
   "cell_type": "markdown",
   "id": "bc8eff3f",
   "metadata": {},
   "source": [
    "### 11. 다음 중 문자열 함수의 설명으로 틀린 것은?\n",
    "\n",
    "1.capitalize():첫 문자를 대문자로 변환한다.\n",
    "2.title():각 단어의 앞 글자만 대문자로 변환한다.\n",
    "3.strip():공백을 기준으로 나눠 리스트를 반환한다.\n",
    "4.isdigit():문자열이 숫자인지의 여부를 반환한다.\n",
    "5.upper():문자를 대문자로 변환한다."
   ]
  },
  {
   "cell_type": "markdown",
   "id": "53d5db3b",
   "metadata": {},
   "source": [
    "3번이 틀림 \n",
    "좌우 공백을 삭제하는 함수"
   ]
  },
  {
   "cell_type": "markdown",
   "id": "c7abd028",
   "metadata": {},
   "source": [
    "### 다음과 같은 결과가 나올 수 있도록 서식 지정(formatting)을 사용하여 코드를 작성하시오.\n",
    "      *\n",
    "     ***\n",
    "    *****\n",
    "   *******\n",
    "  *********\n",
    " ***********\n"
   ]
  },
  {
   "cell_type": "code",
   "execution_count": 12,
   "id": "f8e097e7",
   "metadata": {},
   "outputs": [
    {
     "name": "stdout",
     "output_type": "stream",
     "text": [
      "      *\n",
      "     ***\n",
      "    *****\n",
      "   *******\n",
      "  *********\n",
      " ***********\n"
     ]
    }
   ],
   "source": [
    "for i in range(1,7):\n",
    "    for j in range(7-i):\n",
    "        print(\" \", end=\"\")\n",
    "    for j in range(2*i-1):\n",
    "        print(\"*\", end=\"\")\n",
    "    print()"
   ]
  },
  {
   "cell_type": "markdown",
   "id": "f1a4d172",
   "metadata": {},
   "source": [
    "### 13. 다음 코드의 의미를 설명하시오.\n",
    "\n",
    ">>>print(\"{0:>10s})\".format(\"Apple\"))"
   ]
  },
  {
   "cell_type": "markdown",
   "id": "3ac9c27d",
   "metadata": {},
   "source": [
    "공백5개+Apple"
   ]
  },
  {
   "cell_type": "markdown",
   "id": "cfcaf0b0",
   "metadata": {},
   "source": [
    "### 14. 서식 지정 기능에서 패딩(padding)과 네이밍(naming)의 차이를 서술하시오. \n",
    "\n"
   ]
  },
  {
   "cell_type": "markdown",
   "id": "be3fbda5",
   "metadata": {},
   "source": [
    "패딩은 여유공간을 지정하여 글자 배열을 맞추고 소수점 자리수를 맞추며 순차적으로 들어가는 기능이고 네이밍은 똑같이 순서에 대응하는 것이 아니라 변수 명을 사용하여 순차적이지 않게 값을 할당할 수 있는 것이다"
   ]
  }
 ],
 "metadata": {
  "kernelspec": {
   "display_name": "Python 3",
   "language": "python",
   "name": "python3"
  },
  "language_info": {
   "codemirror_mode": {
    "name": "ipython",
    "version": 3
   },
   "file_extension": ".py",
   "mimetype": "text/x-python",
   "name": "python",
   "nbconvert_exporter": "python",
   "pygments_lexer": "ipython3",
   "version": "3.8.8"
  }
 },
 "nbformat": 4,
 "nbformat_minor": 5
}
