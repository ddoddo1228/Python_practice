{
 "cells": [
  {
   "cell_type": "markdown",
   "id": "d0337807",
   "metadata": {},
   "source": [
    "### 1. 코드 실행 결과는?\n",
    "```python\n",
    "a = 777\n",
    "b = 777\n",
    "print(a==b, a is b)\n",
    "```"
   ]
  },
  {
   "cell_type": "code",
   "execution_count": 24,
   "id": "bb883fcb",
   "metadata": {},
   "outputs": [
    {
     "name": "stdout",
     "output_type": "stream",
     "text": [
      "True False\n"
     ]
    }
   ],
   "source": [
    "a = 777\n",
    "b = 777\n",
    "print(a==b, a is b)"
   ]
  },
  {
   "cell_type": "markdown",
   "id": "8af715c0",
   "metadata": {},
   "source": [
    "a == b 는 값을 비교, a is b 는 메모리값을 비교하는 것이다."
   ]
  },
  {
   "cell_type": "markdown",
   "id": "f0dbf7f9",
   "metadata": {},
   "source": [
    "### 2. 변수를 메모리에서 삭제하는 것은?\n",
    "--> \"del\""
   ]
  },
  {
   "cell_type": "markdown",
   "id": "5c2cde17",
   "metadata": {},
   "source": [
    "### 3. 빈칸에 들어갈 각각의 코드 실행 결과를 쓰시오.\n",
    "a = 3.5\n",
    "b = int(3.5)\n",
    "print(a**((a//b)*2))\n",
    "\n",
    "(가)\n",
    "\n",
    "print(((a-b)*a)//b)\n",
    "\n",
    "(나)\n",
    "\n",
    "b= (((a-b)*a)%b)\n",
    "print(b)\n",
    "\n",
    "(다)\n",
    "\n",
    "print((a*4)%(b*4))\n",
    "\n",
    "(라)"
   ]
  },
  {
   "cell_type": "code",
   "execution_count": 25,
   "id": "09d78a45",
   "metadata": {},
   "outputs": [
    {
     "name": "stdout",
     "output_type": "stream",
     "text": [
      "12.25\n",
      "0.0\n",
      "1.75\n",
      "0.0\n"
     ]
    }
   ],
   "source": [
    "a = 3.5\n",
    "b = int(3.5)\n",
    "print(a**((a//b)*2))\n",
    "\n",
    "\n",
    "print(((a-b)*a)//b)\n",
    "\n",
    "\n",
    "\n",
    "b= (((a-b)*a)%b)\n",
    "print(b)\n",
    "\n",
    "\n",
    "\n",
    "print((a*4)%(b*4))\n"
   ]
  },
  {
   "cell_type": "markdown",
   "id": "702628f9",
   "metadata": {},
   "source": [
    "### 4. 입력받은 섭씨온도를 화씨온도로 변환하는 프로그램을 코딩하려고 한다. 코드 순서를 바르게 나열한 것은?\n",
    "(1) fahrenheit = ((9/5) * celsius ) + 32\n",
    "\n",
    "(2) celsius = input(“섭씨온도를 입력하세요:”)\n",
    "\n",
    "(3) print(“섭씨온도:”, celsius, “화씨온도:”,fahrenheit)\n",
    "\n",
    "(4) celsius = float(input(“섭씨온도를 입력하세요:”))\n",
    "\n",
    "--> \"4. (4) - (1) - (3)\""
   ]
  },
  {
   "cell_type": "markdown",
   "id": "98e80a29",
   "metadata": {},
   "source": [
    "### 5. 다음 변수 a의 자료형은?\n",
    "a = “True”\n",
    "\n",
    "--> \"문자형\""
   ]
  },
  {
   "cell_type": "markdown",
   "id": "444023a1",
   "metadata": {},
   "source": [
    "### 6. 다음과 같은 코드 작성 시, 실행 결과로 알맞게 짝지어진 것은?\n",
    "a = 10.6\n",
    "b = 10.5\n",
    "print(a*b)\n",
    "\n",
    "빈칸\n",
    "\n",
    "type(a + b)\n",
    "\n",
    "빈칸\n",
    "\n"
   ]
  },
  {
   "cell_type": "code",
   "execution_count": 26,
   "id": "6a1b302b",
   "metadata": {},
   "outputs": [
    {
     "name": "stdout",
     "output_type": "stream",
     "text": [
      "111.3\n"
     ]
    },
    {
     "data": {
      "text/plain": [
       "float"
      ]
     },
     "execution_count": 26,
     "metadata": {},
     "output_type": "execute_result"
    }
   ],
   "source": [
    "a = 10.6\n",
    "b = 10.5\n",
    "print(a*b)\n",
    "\n",
    "\n",
    "\n",
    "type(a + b)\n",
    "\n"
   ]
  },
  {
   "cell_type": "markdown",
   "id": "7f93cf63",
   "metadata": {},
   "source": [
    "### 7. box =\"apple\"의 뜻은?\n",
    "\n",
    "--> 2)\"box 변수에 apple 값을 넣어라.\""
   ]
  },
  {
   "cell_type": "markdown",
   "id": "0dedccda",
   "metadata": {},
   "source": [
    "### 8. 다음과 같이 코드를 작성했을 때, 실행 결과로 알맞은 것은?\n",
    "\n",
    "a =“3.5”\n",
    "b = 4\n",
    "print( a * b )"
   ]
  },
  {
   "cell_type": "code",
   "execution_count": 27,
   "id": "fee3fa90",
   "metadata": {},
   "outputs": [
    {
     "name": "stdout",
     "output_type": "stream",
     "text": [
      "3.53.53.53.5\n"
     ]
    }
   ],
   "source": [
    "a = \"3.5\"\n",
    "b = 4\n",
    "print( a * b )"
   ]
  },
  {
   "cell_type": "markdown",
   "id": "acf1444b",
   "metadata": {},
   "source": [
    "### 9. a= \"3.5\", b=\"1.5\"일 때, print(a+b)의 실행 결과는?\n"
   ]
  },
  {
   "cell_type": "code",
   "execution_count": 28,
   "id": "104ed78d",
   "metadata": {},
   "outputs": [
    {
     "name": "stdout",
     "output_type": "stream",
     "text": [
      "3.51.5\n"
     ]
    }
   ],
   "source": [
    "a= \"3.5\"\n",
    "b=\"1.5\"\n",
    "print(a+b)"
   ]
  },
  {
   "cell_type": "markdown",
   "id": "910a6c78",
   "metadata": {},
   "source": [
    "### 10. 다음과 같이 코드를 작성했을 때, print(a+b)의 실행 결과는?\n",
    "a = \"3\"\n",
    "b = float(a)\n",
    "print(b **int(a))"
   ]
  },
  {
   "cell_type": "code",
   "execution_count": 29,
   "id": "f118412a",
   "metadata": {},
   "outputs": [
    {
     "name": "stdout",
     "output_type": "stream",
     "text": [
      "27.0\n"
     ]
    }
   ],
   "source": [
    "a = \"3\"\n",
    "b = float(a)\n",
    "print(b **int(a))"
   ]
  },
  {
   "cell_type": "markdown",
   "id": "0be26b7e",
   "metadata": {},
   "source": [
    "### 11. 변수(variable)에 대한 설명으로 틀린 것은?\n",
    "\n",
    "-->변수에 할당된 값은 하드디스크에 저장된다.\n",
    "\n",
    "=>변수에 할당된 값은 메모리 공간에 저장된다."
   ]
  },
  {
   "cell_type": "markdown",
   "id": "84e5db93",
   "metadata": {},
   "source": [
    "### 12. 다음과 같이 코드를 작성했을 때, 실행 결과로 알맞은 것은?\n",
    "a = \"20\"\n",
    "b = \"4\"\n",
    "print(type(float(a/b)))"
   ]
  },
  {
   "cell_type": "markdown",
   "id": "80c6a690",
   "metadata": {},
   "source": [
    "-\n",
    "TypeError                                 Traceback (most recent call last)\n",
    "<ipython-input-20-2b89115c4688> in <module>\n",
    "      1 a = \"20\"\n",
    "      2 b = \"4\"\n",
    "----> 3 print(type(float(a/b)))\n",
    "\n",
    "TypeError: unsupported operand type(s) for /: 'str' and 'str'"
   ]
  },
  {
   "cell_type": "markdown",
   "id": "2e064cf1",
   "metadata": {},
   "source": [
    "### 13. 다음 코드의 실행 결과가 나오도록 빈칸에 코드를 추가하시오. (단, 변수를 삭제하면 안 됨)\n",
    "a = “Gachon”\n",
    "b = “CS”\n",
    "c = 200\n",
    "\n",
    "빈칸\n",
    "\n",
    "print(a, b, c)\n",
    "Gachon CS 50\n",
    "\n",
    "--> c = int(c/4) , c = c-150"
   ]
  },
  {
   "cell_type": "markdown",
   "id": "6b139f45",
   "metadata": {},
   "source": [
    "### 14. 동적 타이핑의 의미를 설명하고, 파이썬 코드로 예시를 제시하시오.\n",
    "\n",
    "a = 1\n",
    "\n",
    "b = a\n",
    "\n",
    "c = 1\n",
    "\n",
    "a is b or a is c or  a는 변수 1을 받고 b라는 변수는 a의 1값을 받아오고 print(a, b, c)를 입력하면 1 1 1이 나옵니다. 형을 정하지 않았지만 자동으로 정수형으로 처리되어 출력된 것입니다. 이것이 동적 타이핑입니다."
   ]
  },
  {
   "cell_type": "markdown",
   "id": "1f653ecc",
   "metadata": {},
   "source": [
    "### 15. 다음 코드의 예상되는 실행 결과를 쓰시오.\n",
    "(가) print(“1.0”*5)\n",
    "\n",
    "(나) print(“1.0”+2)\n",
    "\n",
    "(다) print(“Hanbit” + “Python”)\n",
    "\n",
    "(라) print(“3.5” + “0.5”)"
   ]
  },
  {
   "cell_type": "markdown",
   "id": "795ba961",
   "metadata": {},
   "source": [
    "(가) – 1.0이 5번 반복\n",
    "\n",
    "(나) – 에러\n",
    "\n",
    "(다) – Hanbit와 Python이 붙어서 HanbitPython가 써진다.\n",
    "\n",
    "(라) – 3.5와 0.5가 붙어서 3.50.5가 써진다."
   ]
  },
  {
   "cell_type": "markdown",
   "id": "a9a63dc9",
   "metadata": {},
   "source": [
    "### 16. 변수명을 지을 때 권장하는 규칙 중 틀린 것은?\n",
    "--> 2) 한글은 사용할 수 없다."
   ]
  },
  {
   "cell_type": "markdown",
   "id": "1e42d47b",
   "metadata": {},
   "source": [
    "### 17. 파이썬에서 반올림 오차가 나타나는 이유에 대해 설명하시오.\n",
    "반올림 오차는 실수를 덧뺄셈할 시 오차가 발생합니다. 컴퓨터에서 무한한 소수점을 다 표기 할 수 있기 때문에 근삿값이 출력되어 오차 값을 가집니다.\n",
    "\n",
    " "
   ]
  }
 ],
 "metadata": {
  "kernelspec": {
   "display_name": "Python 3",
   "language": "python",
   "name": "python3"
  },
  "language_info": {
   "codemirror_mode": {
    "name": "ipython",
    "version": 3
   },
   "file_extension": ".py",
   "mimetype": "text/x-python",
   "name": "python",
   "nbconvert_exporter": "python",
   "pygments_lexer": "ipython3",
   "version": "3.8.8"
  }
 },
 "nbformat": 4,
 "nbformat_minor": 5
}
