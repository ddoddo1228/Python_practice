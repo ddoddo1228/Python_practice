{
 "cells": [
  {
   "cell_type": "markdown",
   "id": "ea7272f6",
   "metadata": {},
   "source": [
    "### 1. 다음 코드의 실행 결과를 쓰시오.\n",
    "a = [0, 1, 2, 3, 4]\n",
    "\n",
    "print(a[:3], a[:-3])"
   ]
  },
  {
   "cell_type": "code",
   "execution_count": 21,
   "id": "059c8878",
   "metadata": {},
   "outputs": [
    {
     "name": "stdout",
     "output_type": "stream",
     "text": [
      "[0, 1, 2] [0, 1]\n"
     ]
    }
   ],
   "source": [
    "a = [0, 1, 2, 3, 4]\n",
    "\n",
    "print(a[:3], a[:-3])"
   ]
  },
  {
   "cell_type": "markdown",
   "id": "2dfc2806",
   "metadata": {},
   "source": [
    "### 2. 다음 코드의 실행 결과를 쓰시오.\n",
    "\n",
    "a = [0, 1, 2, 3, 4]\n",
    "print(a[::-1])"
   ]
  },
  {
   "cell_type": "code",
   "execution_count": 22,
   "id": "fa29639e",
   "metadata": {},
   "outputs": [
    {
     "name": "stdout",
     "output_type": "stream",
     "text": [
      "[4, 3, 2, 1, 0]\n"
     ]
    }
   ],
   "source": [
    "a = [0, 1, 2, 3, 4]\n",
    "print(a[::-1])"
   ]
  },
  {
   "cell_type": "markdown",
   "id": "4a4ff6e3",
   "metadata": {},
   "source": [
    "### 3. 다음 코드의 실행 결과를 쓰시오.\n",
    "\n",
    "first = [“egg”, “salad”, “bread”, “soup”, “canafe”]\n",
    "second = [“fish”, “lamb”, “pork”, “beef”, “chicken”]\n",
    "third = [“apple”, “banana”, “orange”, “grape”, “mango”]\n",
    "\n",
    "order = [first, second, third]\n",
    "john = [order[0][:-2], second[1::3], third[0]]\n",
    "del john[2]\n",
    "john.extend([order[2][0:1]])\n",
    "print(john)"
   ]
  },
  {
   "cell_type": "code",
   "execution_count": 23,
   "id": "f2737fea",
   "metadata": {},
   "outputs": [
    {
     "ename": "SyntaxError",
     "evalue": "invalid character in identifier (<ipython-input-23-6142b0c4b696>, line 1)",
     "output_type": "error",
     "traceback": [
      "\u001b[1;36m  File \u001b[1;32m\"<ipython-input-23-6142b0c4b696>\"\u001b[1;36m, line \u001b[1;32m1\u001b[0m\n\u001b[1;33m    first = [“egg”, “salad”, “bread”, “soup”, “canafe”]\u001b[0m\n\u001b[1;37m                 ^\u001b[0m\n\u001b[1;31mSyntaxError\u001b[0m\u001b[1;31m:\u001b[0m invalid character in identifier\n"
     ]
    }
   ],
   "source": [
    "first = [“egg”, “salad”, “bread”, “soup”, “canafe”]\n",
    "second = [“fish”, “lamb”, “pork”, “beef”, “chicken”]\n",
    "third = [“apple”, “banana”, “orange”, “grape”, “mango”]\n",
    "\n",
    "order = [first, second, third]\n",
    "john = [order[0][:-2], second[1::3], third[0]]\n",
    "del john[2]\n",
    "john.extend([order[2][0:1]])\n",
    "print(john)"
   ]
  },
  {
   "cell_type": "markdown",
   "id": "c1287ca0",
   "metadata": {},
   "source": [
    "### 4. 다음 코드의 실행 결과를 쓰시오.\n",
    "list_a = [3,2,1,4]\n",
    "list_b = list_a.sort()\n",
    "print(list_a, list_b)"
   ]
  },
  {
   "cell_type": "code",
   "execution_count": null,
   "id": "fb239a5c",
   "metadata": {},
   "outputs": [],
   "source": [
    "list_a = [3,2,1,4]\n",
    "list_b = list_a.sort()\n",
    "print(list_a, list_b)"
   ]
  },
  {
   "cell_type": "markdown",
   "id": "9e683526",
   "metadata": {},
   "source": [
    "### 5. 다음 코드의 실행 결과를 쓰시오.\n",
    "a = [5, 7, 3]\n",
    "b = [3, 9, 1]\n",
    "c = a + b\n",
    "c = c.sort()\n",
    "print(c)"
   ]
  },
  {
   "cell_type": "code",
   "execution_count": null,
   "id": "834358fa",
   "metadata": {},
   "outputs": [],
   "source": [
    "a = [5, 7, 3]\n",
    "b = [3, 9, 1]\n",
    "c = a + b\n",
    "c = c.sort()\n",
    "print(c)"
   ]
  },
  {
   "cell_type": "markdown",
   "id": "569ad3e1",
   "metadata": {},
   "source": [
    "### 6. GUI와 CLI의 설명으로 틀린 것은?\n",
    "\n",
    "--> 5) CLI는 모든 운영체제에서 사용 가능하다."
   ]
  },
  {
   "cell_type": "markdown",
   "id": "4f66dd2d",
   "metadata": {},
   "source": [
    "### 7. 다음 코드의 실행 결과를 쓰시오.\n",
    "fruits = [\"apple\", \"banana\", \"cherry\", \"grape\", \"orange\", \"strawberry\", \"melon\"]\n",
    "print(fruits[-3:], fruits[1::3])"
   ]
  },
  {
   "cell_type": "code",
   "execution_count": null,
   "id": "4dd5b073",
   "metadata": {},
   "outputs": [],
   "source": [
    "fruits = [\"apple\", \"banana\", \"cherry\", \"grape\", \"orange\", \"strawberry\", \"melon\"]\n",
    "print(fruits[-3:], fruits[1::3])"
   ]
  },
  {
   "cell_type": "markdown",
   "id": "fad5bb75",
   "metadata": {},
   "source": [
    "### 8. 다음 코드의 실행 결과를 쓰시오.\n",
    "num = [1, 2, 3 ,4]\n",
    "print(num*2)"
   ]
  },
  {
   "cell_type": "code",
   "execution_count": null,
   "id": "6944b84c",
   "metadata": {},
   "outputs": [],
   "source": [
    "num = [1, 2, 3 ,4]\n",
    "print(num*2)"
   ]
  },
  {
   "cell_type": "markdown",
   "id": "bad6c70e",
   "metadata": {},
   "source": [
    "### 9. 다음 코드의 실행 결과를 쓰시오.\n",
    "a = [1, 2, 3, 5]\n",
    "b = [‘a’, ‘b’, ‘c’, ‘d’, ‘e’]\n",
    "\n",
    "a.append(‘g’)\n",
    "b.append(6)\n",
    "print(‘g’ in b, len(b))"
   ]
  },
  {
   "cell_type": "code",
   "execution_count": null,
   "id": "558c6604",
   "metadata": {},
   "outputs": [],
   "source": [
    "a = [1, 2, 3, 5]\n",
    "b = [\"a\", \"b\", \"c\", \"d\", \"e\"]\n",
    "\n",
    "a.append(\"g\")\n",
    "b.append(6)\n",
    "print(\"g\" in b, len(b))"
   ]
  },
  {
   "cell_type": "markdown",
   "id": "0849a521",
   "metadata": {},
   "source": [
    "### 10. 다음과 같이 코드를 작성했을 때, 실행 결과로 알맞은 것은?\n",
    "list_a = ['Hankook', 'University', 'is', 'an', 'academic', 'institute', 'located', 'in', 'South Korea']\n",
    "list_b=[ ]\n",
    "for i in range(len(list_a)):\n",
    "    if i % 2 != 1:\n",
    "        list_b.append(list_a[i])\n",
    "print(list_b)"
   ]
  },
  {
   "cell_type": "code",
   "execution_count": null,
   "id": "5368b511",
   "metadata": {},
   "outputs": [],
   "source": [
    "list_a = [\"Hankook\", \"University\", \"is\", \"an\", \"academic\", \"institute\", \"located\", 'in', \"South Korea\"]\n",
    "list_b=[ ]\n",
    "for i in range(len(list_a)):\n",
    "    if i % 2 != 1:\n",
    "        list_b.append(list_a[i])\n",
    "print(list_b)"
   ]
  },
  {
   "cell_type": "markdown",
   "id": "c92e27b6",
   "metadata": {},
   "source": [
    "### 11. 다음 코드를 실행한 후, 2018과 “2018”을 각각 입력했을 경우 알맞은 실행 결과끼리 묶인 것은?\n",
    "admission_year = input(“입학 연도를 입력하세요: ”)\n",
    "print(type(admission_year))\n",
    "\n",
    "--> 3) <class ‘str’>, <class ‘str’>"
   ]
  },
  {
   "cell_type": "markdown",
   "id": "5503c0db",
   "metadata": {},
   "source": [
    "### 12. 다음 코드의 실행 결과를 쓰시오.\n",
    "country = [\"Korea\", \"Japan\", \"China\"]\n",
    "capital = [\"Seoul\", \"Tokyo\", \"Beijing\"]\n",
    "index = [1, 2, 3]\n",
    "country.append(capital)\n",
    "country[3][1] = index[1:]\n",
    "print(country)"
   ]
  },
  {
   "cell_type": "code",
   "execution_count": null,
   "id": "f57605d8",
   "metadata": {},
   "outputs": [],
   "source": [
    "country = [\"Korea\", \"Japan\", \"China\"]\n",
    "capital = [\"Seoul\", \"Tokyo\", \"Beijing\"]\n",
    "index = [1, 2, 3]\n",
    "country.append(capital)\n",
    "country[3][1] = index[1:]\n",
    "print(country)"
   ]
  },
  {
   "cell_type": "markdown",
   "id": "17f62523",
   "metadata": {},
   "source": [
    "### 13. 다음 코드의 실행 결과가 나오도록 빈칸의 알맞은 코드를 쓰시오.\n",
    "\n",
    "week1 = [\"Mon\", \"Tue\", \"Wed\"]\n",
    "week2 = [\"Thu\", \"Fri\", \"Sat\", \"Sun\"]\n",
    "week3 = --\n",
    "print(week2[:len(week3)+1]\n",
    "[‘Thu’, ‘Fri’]\n",
    "--> [\"\"]"
   ]
  },
  {
   "cell_type": "markdown",
   "id": "0bf33c6d",
   "metadata": {},
   "source": [
    "### 14. 다음 코드를 실행하면 다음과 같은 결과가 나온다. 그 이유에 대해 서술하시오.\n",
    "a = 1\n",
    "b = 1\n",
    "a is b\n",
    "\n",
    "True\n",
    "\n",
    "a = 300\n",
    "b = 300\n",
    "a is b\n",
    "\n",
    "False\n",
    "\n",
    "\n",
    "a와 b가 지정한 1은 이미 가진 값을 가리키는 것이므로 True다. 이후 300으로 a, b의 값을 지정한 경우에는 다른 메모리에 설정해준 것이기 때문에 a is b의 경우 저장된 메모리 위치가 다르기 때문에 False이다."
   ]
  },
  {
   "cell_type": "markdown",
   "id": "ee5002ab",
   "metadata": {},
   "source": [
    "### 15. 다음과 같이 코드를 작성했을 때 예측되는 실행 결과를 쓰고, 이러한 결과가 나오는 이유에 대해 서술하시오.\n",
    "\n",
    "a = [5, 4, 3, 2, 1]\n",
    "b = a\n",
    "c = [5, 4, 3, 2, 1]\n",
    "a is b\n",
    "(가)\n",
    "a is c\n",
    "(나)\n",
    "\n",
    "가 는 리스트에 저장한 5,4,3,2,1 값이 b=a를 같다고 하면서 초기화를 해준 것이다. 이것은 동적 메모리에 b도 같은 방향을 가지고 있다는 것을 말한다. 그래서 a is b의 경우는 True값이 나온다. 나 도 a is c가 참조하는 메모리의 위치가 다르기 때문에 False 이다.\n",
    "\n",
    " \n",
    "\n",
    "나 는 a is c의 경우 같은 리스트 값을 갖고 있는 것 같지만 결국 참조하는 메모리의 위치가 다르기 때문에 False값이 나오게 된다."
   ]
  },
  {
   "cell_type": "code",
   "execution_count": null,
   "id": "8296d80f",
   "metadata": {},
   "outputs": [],
   "source": []
  },
  {
   "cell_type": "code",
   "execution_count": null,
   "id": "68209247",
   "metadata": {},
   "outputs": [],
   "source": []
  },
  {
   "cell_type": "code",
   "execution_count": null,
   "id": "04beff20",
   "metadata": {},
   "outputs": [],
   "source": []
  }
 ],
 "metadata": {
  "kernelspec": {
   "display_name": "Python 3",
   "language": "python",
   "name": "python3"
  },
  "language_info": {
   "codemirror_mode": {
    "name": "ipython",
    "version": 3
   },
   "file_extension": ".py",
   "mimetype": "text/x-python",
   "name": "python",
   "nbconvert_exporter": "python",
   "pygments_lexer": "ipython3",
   "version": "3.8.8"
  }
 },
 "nbformat": 4,
 "nbformat_minor": 5
}
