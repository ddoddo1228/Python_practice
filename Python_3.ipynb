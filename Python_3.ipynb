{
 "cells": [
  {
   "cell_type": "markdown",
   "id": "a053af1b",
   "metadata": {},
   "source": [
    "### 01. 주어진 자연수 N에 대해 N이 짝수이면 N!을, 홀수이면 N(시그마)을 구하는 코드를 작성하려 한다. 주어진 코드에서 잘못된 부분을 수정하시오.\n",
    " \n",
    " def calculator(N):\n",
    "    if n % 2 == 0:\n",
    "        result = 1\n",
    "        for i in range(1,N):\n",
    "            result = result *i\n",
    "    else:\n",
    "        result = 0\n",
    "        for i in range(1, N):\n",
    "        result = result + i\n",
    "    return result"
   ]
  },
  {
   "cell_type": "code",
   "execution_count": 26,
   "id": "e0d67376",
   "metadata": {},
   "outputs": [],
   "source": [
    "def calculator(N):\n",
    "    if N % 2 == 0:\n",
    "        result = 1\n",
    "        for i in range(1,N+1):\n",
    "            result = result * i\n",
    "    else :\n",
    "        result = 0\n",
    "        for i in range(1, N+1):\n",
    "            result = result + i\n",
    "    return result"
   ]
  },
  {
   "cell_type": "markdown",
   "id": "a840aeb5",
   "metadata": {},
   "source": [
    "N % 2는 짝수이므로 result를 1부터 n-1번까지 곱하는 연산을 하기위해 N에 +1을 해줍니다.\n",
    "\n",
    "홀수도 N+1로 해서 해결합니다."
   ]
  },
  {
   "cell_type": "markdown",
   "id": "4ddfb933",
   "metadata": {},
   "source": [
    "### 02. 다음 코드의 실행 결과를 쓰시오\n",
    "fruit = 'apple'\n",
    "if fruit == 'Apple':\n",
    "    fruit = 'Apple'\n",
    "elif fruit == 'fruit':\n",
    "    fruit = 'fruit'\n",
    "else:\n",
    "    fruit = fruit\n",
    "print(fruit)"
   ]
  },
  {
   "cell_type": "code",
   "execution_count": 28,
   "id": "c545d86c",
   "metadata": {},
   "outputs": [
    {
     "name": "stdout",
     "output_type": "stream",
     "text": [
      "apple\n"
     ]
    }
   ],
   "source": [
    "fruit = 'apple'\n",
    "if fruit == 'Apple':\n",
    "    fruit = 'Apple'\n",
    "elif fruit == 'fruit':\n",
    "    fruit = 'fruit'\n",
    "else:\n",
    "    fruit = fruit\n",
    "print(fruit)"
   ]
  },
  {
   "cell_type": "markdown",
   "id": "e5303272",
   "metadata": {},
   "source": [
    "변수 안에 apple과 fruit 모두 해당되지 않아서 apple이 출력"
   ]
  },
  {
   "cell_type": "markdown",
   "id": "943b8e79",
   "metadata": {},
   "source": [
    "### 03. 다음 코드의 실행 결과를 쓰시오.\n",
    "num = ['12', '34', '56']\n",
    "for i in num:\n",
    "    i = int(i)\n",
    "print(num)"
   ]
  },
  {
   "cell_type": "code",
   "execution_count": 29,
   "id": "593cdc32",
   "metadata": {},
   "outputs": [
    {
     "name": "stdout",
     "output_type": "stream",
     "text": [
      "['12', '34', '56']\n"
     ]
    }
   ],
   "source": [
    "num = ['12', '34', '56']\n",
    "for i in num:\n",
    "    i = int(i)\n",
    "print(num)"
   ]
  },
  {
   "cell_type": "markdown",
   "id": "2db2c411",
   "metadata": {},
   "source": [
    "### 04. 다음 코드의 실행 결과를 쓰시오.\n",
    "number = [\"1\", 2, 3, float(4), str(5)]\n",
    "if number[4] == 5 :\n",
    "    print(type(number[0]))\n",
    "elif number[3] == 4:\n",
    "    print(number[2:-1])"
   ]
  },
  {
   "cell_type": "code",
   "execution_count": 30,
   "id": "fa87f761",
   "metadata": {},
   "outputs": [
    {
     "name": "stdout",
     "output_type": "stream",
     "text": [
      "[3, 4.0]\n"
     ]
    }
   ],
   "source": [
    "number = [\"1\", 2, 3, float(4), str(5)]\n",
    "if number[4] == 5 :\n",
    "    print(type(number[0]))\n",
    "elif number[3] == 4:\n",
    "    print(number[2:-1])"
   ]
  },
  {
   "cell_type": "markdown",
   "id": "2e0b2f94",
   "metadata": {},
   "source": [
    "### 05. 다음 코드의 실행 결과를 쓰시오.\n",
    "num =0\n",
    "i = 1\n",
    "\n",
    "while i <8:\n",
    "    if i % 3==0:\n",
    "        break\n",
    "    i +=1\n",
    "    num +=i\n",
    "print(num)"
   ]
  },
  {
   "cell_type": "code",
   "execution_count": 31,
   "id": "ff3439be",
   "metadata": {},
   "outputs": [
    {
     "name": "stdout",
     "output_type": "stream",
     "text": [
      "5\n"
     ]
    }
   ],
   "source": [
    "num =0\n",
    "i = 1\n",
    "\n",
    "while i <8:\n",
    "    if i % 3==0:\n",
    "        break\n",
    "    i +=1\n",
    "    num +=i\n",
    "print(num)"
   ]
  },
  {
   "cell_type": "markdown",
   "id": "14cb47a2",
   "metadata": {},
   "source": [
    "### 06. 다음 코드의 실행 결과를 쓰시오.\n",
    "result = 0\n",
    "for i in range(5, -5, -2):\n",
    "    if i < -3:\n",
    "        result +=1\n",
    "    else :\n",
    "        result -=1\n",
    "        \n",
    "print(result)"
   ]
  },
  {
   "cell_type": "code",
   "execution_count": 32,
   "id": "3f146096",
   "metadata": {},
   "outputs": [
    {
     "name": "stdout",
     "output_type": "stream",
     "text": [
      "-5\n"
     ]
    }
   ],
   "source": [
    "result = 0\n",
    "for i in range(5, -5, -2):\n",
    "    if i < -3:\n",
    "        result +=1\n",
    "    else :\n",
    "        result -=1\n",
    "        \n",
    "print(result)"
   ]
  },
  {
   "cell_type": "markdown",
   "id": "d7538d9e",
   "metadata": {},
   "source": [
    "### 07. 다음 코드의 실행 결과를 쓰시오.\n",
    "fruit = 'apple'\n",
    "if fruit == 'Apple':\n",
    "    fruit = 'Apple'\n",
    "elif fruit == 'fruit':\n",
    "    fruit = 'fruit'\n",
    "else:\n",
    "    fruit = fruit\n",
    "\n",
    "print(fruit)"
   ]
  },
  {
   "cell_type": "code",
   "execution_count": 33,
   "id": "2b4d4049",
   "metadata": {},
   "outputs": [
    {
     "name": "stdout",
     "output_type": "stream",
     "text": [
      "apple\n"
     ]
    }
   ],
   "source": [
    "fruit = 'apple'\n",
    "if fruit == 'Apple':\n",
    "    fruit = 'Apple'\n",
    "elif fruit == 'fruit':\n",
    "    fruit = 'fruit'\n",
    "else:\n",
    "    fruit = fruit\n",
    "\n",
    "print(fruit)"
   ]
  },
  {
   "cell_type": "markdown",
   "id": "e2c63457",
   "metadata": {},
   "source": [
    "### 08. 다음 코드의 실행 결과를 쓰시오.\n",
    "first_value = 0\n",
    "second_value = 0\n",
    "\n",
    "for i in range(1, 10):\n",
    "    if i is 5:\n",
    "        continue\n",
    "        first_value = i\n",
    "    if i is 10:\n",
    "        break\n",
    "        second_value = i\n",
    "\n",
    "print(first_value + second_value)"
   ]
  },
  {
   "cell_type": "code",
   "execution_count": 34,
   "id": "66fc273c",
   "metadata": {},
   "outputs": [
    {
     "name": "stdout",
     "output_type": "stream",
     "text": [
      "0\n"
     ]
    },
    {
     "name": "stderr",
     "output_type": "stream",
     "text": [
      "<>:5: SyntaxWarning: \"is\" with a literal. Did you mean \"==\"?\n",
      "<>:8: SyntaxWarning: \"is\" with a literal. Did you mean \"==\"?\n",
      "<>:5: SyntaxWarning: \"is\" with a literal. Did you mean \"==\"?\n",
      "<>:8: SyntaxWarning: \"is\" with a literal. Did you mean \"==\"?\n",
      "<ipython-input-34-7912a7fc4300>:5: SyntaxWarning: \"is\" with a literal. Did you mean \"==\"?\n",
      "  if i is 5:\n",
      "<ipython-input-34-7912a7fc4300>:8: SyntaxWarning: \"is\" with a literal. Did you mean \"==\"?\n",
      "  if i is 10:\n"
     ]
    }
   ],
   "source": [
    "first_value = 0\n",
    "second_value = 0\n",
    "\n",
    "for i in range(1, 10):\n",
    "    if i is 5:\n",
    "        continue\n",
    "        first_value = i\n",
    "    if i is 10:\n",
    "        break\n",
    "        second_value = i\n",
    "\n",
    "print(first_value + second_value)"
   ]
  },
  {
   "cell_type": "markdown",
   "id": "8756a0be",
   "metadata": {},
   "source": [
    "### 09. 다음 코드의 실행 결과를 쓰시오.\n",
    "num =\"\"\n",
    "for i in range(10):\n",
    "    if i <= 5 and (i %2) ==0:\n",
    "        continue\n",
    "    elif i is 7 or i is 10:\n",
    "        continue\n",
    "    else :\n",
    "        num = str(i) + num\n",
    "print(num)"
   ]
  },
  {
   "cell_type": "code",
   "execution_count": 17,
   "id": "d6f6c6fa",
   "metadata": {},
   "outputs": [
    {
     "name": "stdout",
     "output_type": "stream",
     "text": [
      "986531\n"
     ]
    },
    {
     "name": "stderr",
     "output_type": "stream",
     "text": [
      "<>:5: SyntaxWarning: \"is\" with a literal. Did you mean \"==\"?\n",
      "<>:5: SyntaxWarning: \"is\" with a literal. Did you mean \"==\"?\n",
      "<>:5: SyntaxWarning: \"is\" with a literal. Did you mean \"==\"?\n",
      "<>:5: SyntaxWarning: \"is\" with a literal. Did you mean \"==\"?\n",
      "<ipython-input-17-a0a5255a4fd9>:5: SyntaxWarning: \"is\" with a literal. Did you mean \"==\"?\n",
      "  elif i is 7 or i is 10:\n",
      "<ipython-input-17-a0a5255a4fd9>:5: SyntaxWarning: \"is\" with a literal. Did you mean \"==\"?\n",
      "  elif i is 7 or i is 10:\n"
     ]
    }
   ],
   "source": [
    "num =\"\"\n",
    "for i in range(10):\n",
    "    if i <= 5 and (i %2) ==0:\n",
    "        continue\n",
    "    elif i is 7 or i is 10:\n",
    "        continue\n",
    "    else :\n",
    "        num = str(i) + num\n",
    "print(num)"
   ]
  },
  {
   "cell_type": "markdown",
   "id": "86339ee7",
   "metadata": {},
   "source": [
    "### 10. 다음 함수는 작업의 상태를 나타내는 함수이다. 코드의 실행 결과를 쓰시오.\n",
    "def work_status(task,worker,day):\n",
    "    rest_task = task\n",
    "    for k in range(day):\n",
    "        if rest_task >0:\n",
    "            rest_task = rest_task-worker\n",
    "        elif rest_task <=0:\n",
    "            print(\"Task end\")\n",
    "    if rest_task > 0:\n",
    "        print(\"Hire more workers\")\n",
    "\n",
    "\n",
    "work_status(100, 11, 10)\n",
    "work_status(100, 1, 10)\n",
    "work_status(100, 9, 10)\n",
    "work_status(100, 10, 10)"
   ]
  },
  {
   "cell_type": "code",
   "execution_count": 35,
   "id": "6ee0d769",
   "metadata": {},
   "outputs": [
    {
     "name": "stdout",
     "output_type": "stream",
     "text": [
      "Hire more workers\n",
      "Hire more workers\n"
     ]
    }
   ],
   "source": [
    "def work_status(task,worker,day):\n",
    "    rest_task = task\n",
    "    for k in range(day):\n",
    "        if rest_task >0:\n",
    "            rest_task = rest_task-worker\n",
    "        elif rest_task <=0:\n",
    "            print(\"Task end\")\n",
    "    if rest_task > 0:\n",
    "        print(\"Hire more workers\")\n",
    "\n",
    "\n",
    "work_status(100, 11, 10)\n",
    "work_status(100, 1, 10)\n",
    "work_status(100, 9, 10)\n",
    "work_status(100, 10, 10)"
   ]
  },
  {
   "cell_type": "markdown",
   "id": "ad1c6321",
   "metadata": {},
   "source": [
    "### 11. 다음 코드의 실행 결과를 쓰시오.\n",
    "score_list = [5, 10, 15, 20, 25, 30]\n",
    "\n",
    "sum_of_score = 0\n",
    "i = 0\n",
    "while i < len(score_list):\n",
    "    if i % 2 ==0 :\n",
    "        sum_of_score += score_list[i]\n",
    "    i +=1\n",
    "    \n",
    "print(sum_of_score)\n"
   ]
  },
  {
   "cell_type": "code",
   "execution_count": 19,
   "id": "e7128fc4",
   "metadata": {},
   "outputs": [
    {
     "name": "stdout",
     "output_type": "stream",
     "text": [
      "45\n"
     ]
    }
   ],
   "source": [
    "score_list = [5, 10, 15, 20, 25, 30]\n",
    "\n",
    "sum_of_score = 0\n",
    "i = 0\n",
    "while i < len(score_list):\n",
    "    if i % 2 ==0 :\n",
    "        sum_of_score += score_list[i]\n",
    "    i +=1\n",
    "    \n",
    "print(sum_of_score)"
   ]
  },
  {
   "cell_type": "markdown",
   "id": "74baa5d5",
   "metadata": {},
   "source": [
    "### 12. 다음 코드의 실행 결과를 쓰시오.\n",
    "coupon = 0\n",
    "money = 200000\n",
    "coffee = 3500\n",
    "while money > coffee:\n",
    "    if coupon < 4:\n",
    "        money = money - coffee\n",
    "        coupon +=1\n",
    "    else:\n",
    "        money +=2800\n",
    "        coupon =0\n",
    "print(money)\n"
   ]
  },
  {
   "cell_type": "code",
   "execution_count": 22,
   "id": "a0f2fd85",
   "metadata": {},
   "outputs": [
    {
     "name": "stdout",
     "output_type": "stream",
     "text": [
      "2600\n"
     ]
    }
   ],
   "source": [
    "coupon = 0\n",
    "money = 200000\n",
    "coffee = 3500\n",
    "while money > coffee:\n",
    "    if coupon < 4:\n",
    "        money = money - coffee\n",
    "        coupon +=1\n",
    "    else:\n",
    "        money +=2800\n",
    "        coupon =0\n",
    "print(money)\n"
   ]
  },
  {
   "cell_type": "markdown",
   "id": "0ea266f9",
   "metadata": {},
   "source": [
    "### 13. 다음 코드의 변수 a와 b의 숫자를 비교하여 숫자와 자리수가 같으면 ‘strike’, 숫자는 서로 포함하나 자릿수가 다르면 ‘ball’로 카운트하는 프로그램이다. 다음 프로그램의 실행 결과를 쓰시오. 또한, 결과값이 맞지 않는 이유를 쓰고, 올바른 결과값이 나오도록 코드를 수정하시오.\n",
    "a = \"369\"\n",
    "b = \"693\"\n",
    "\n",
    "\n",
    "strike = 0\n",
    "ball = 0\n",
    "\n",
    "for number in a:\n",
    "    if b.count(number)>1:\n",
    "        if b.find(number) != a.find(number):\n",
    "            strike +=1\n",
    "    else:\n",
    "        ball +=1\n",
    "\n",
    "print(\"Strike:\",strike, \"Ball:\",ball)"
   ]
  },
  {
   "cell_type": "code",
   "execution_count": 23,
   "id": "6634adf8",
   "metadata": {},
   "outputs": [
    {
     "name": "stdout",
     "output_type": "stream",
     "text": [
      "Strike: 0 Ball: 3\n"
     ]
    }
   ],
   "source": [
    "a = \"369\"\n",
    "b = \"388\"\n",
    "\n",
    "strike = 0\n",
    "ball = 0\n",
    "\n",
    "for number in a:\n",
    "    if a.count(number) == b.count(number) :\n",
    "        strike +=1\n",
    "    elif a.count(number) > b.count(number) or a.count(number) < b.count(number) :\n",
    "        if b.find(number) != a.find(number) :\n",
    "            ball +=1\n",
    "\n",
    "\n",
    "print(\"Strike:\",strike, \"Ball:\",ball)"
   ]
  },
  {
   "cell_type": "markdown",
   "id": "fed89976",
   "metadata": {},
   "source": [
    "count(number)이 같은 경우에 if문과 조건이 달린 elif문에 주어진 값이 다른 경우의 ball을 사용하면 a와 b의 값이 다른 경우 정확하게 strike와 ball을 측정할 수 있습니다."
   ]
  },
  {
   "cell_type": "markdown",
   "id": "125c0bb8",
   "metadata": {},
   "source": [
    "### 14. 다음과 같이 코드를 작성했을 때, 실행 결과로 알맞은 것은?\n",
    "list_data_a = [1,2]\n",
    "list_data_b = [3,4]\n",
    "\n",
    "for i in list_data_a :\n",
    "    for j in list_data_b:\n",
    "        result = i + j;\n",
    "print(result)\n",
    "① 20\n",
    "\n",
    "② 6\n",
    "\n",
    "③ [13, 14, 23, 24]\n",
    "\n",
    "④ [4, 5, 5, 6]\n",
    "\n",
    "⑤ Error\n"
   ]
  },
  {
   "cell_type": "code",
   "execution_count": 24,
   "id": "ef7b1d74",
   "metadata": {},
   "outputs": [
    {
     "name": "stdout",
     "output_type": "stream",
     "text": [
      "6\n"
     ]
    }
   ],
   "source": [
    "list_data_a = [1,2]\n",
    "list_data_b = [3,4]\n",
    "\n",
    "for i in list_data_a :\n",
    "    for j in list_data_b:\n",
    "        result = i + j;\n",
    "print(result)"
   ]
  },
  {
   "cell_type": "markdown",
   "id": "77db6dd3",
   "metadata": {},
   "source": [
    "②\n",
    "\n",
    "i가 0 -> 1 1 -> 2 , 2번 j는 4번이 실행되어 그 횟수 값이 result에 저장되므로 정답이 2번이 된다."
   ]
  },
  {
   "cell_type": "markdown",
   "id": "0a7176cd",
   "metadata": {},
   "source": [
    "### 15. 다음과 같이 코드를 작성했을 때, 실행 결과로 알맞은 것은?\n",
    "list_1 = [[1,2],[3],[4,5,6]]\n",
    "a,b,c = list_1\n",
    "list_2 = a + b + c\n",
    "\n",
    "print(list_2)\n",
    "① [1, 2, 3, 4, 5, 6]\n",
    "\n",
    "② [[1, 2], [3], [4, 5, 6]]\n",
    "\n",
    "③ 21\n",
    "\n",
    "④ Error\n",
    "\n",
    "⑤ [[1, 2], [3, 4, 5, 6]]"
   ]
  },
  {
   "cell_type": "code",
   "execution_count": 36,
   "id": "7f373593",
   "metadata": {},
   "outputs": [
    {
     "name": "stdout",
     "output_type": "stream",
     "text": [
      "[1, 2, 3, 4, 5, 6]\n"
     ]
    }
   ],
   "source": [
    "list_1 = [[1,2],[3],[4,5,6]]\n",
    "a,b,c = list_1\n",
    "list_2 = a + b + c\n",
    "\n",
    "print(list_2)"
   ]
  },
  {
   "cell_type": "markdown",
   "id": "b1cbd39c",
   "metadata": {},
   "source": [
    "①\n",
    "배열이 순차적으로 재정의되어 1번과같이 순차적으로 되었습니다."
   ]
  }
 ],
 "metadata": {
  "kernelspec": {
   "display_name": "Python 3",
   "language": "python",
   "name": "python3"
  },
  "language_info": {
   "codemirror_mode": {
    "name": "ipython",
    "version": 3
   },
   "file_extension": ".py",
   "mimetype": "text/x-python",
   "name": "python",
   "nbconvert_exporter": "python",
   "pygments_lexer": "ipython3",
   "version": "3.8.8"
  }
 },
 "nbformat": 4,
 "nbformat_minor": 5
}
