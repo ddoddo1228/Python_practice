{
 "cells": [
  {
   "cell_type": "markdown",
   "id": "53e7ed14",
   "metadata": {},
   "source": [
    "### 01. 다음 코드의 실행 결과를 쓰시오\n",
    "\n",
    "def test(t):\n",
    "    t=20\n",
    "    print(\"In Function:\",t)\n",
    "    \n",
    "x=10\n",
    "print(\"Before:\",x)\n",
    "test(x)\n",
    "print(\"After:\",x)"
   ]
  },
  {
   "cell_type": "code",
   "execution_count": 9,
   "id": "23481379",
   "metadata": {},
   "outputs": [
    {
     "name": "stdout",
     "output_type": "stream",
     "text": [
      "Before: 10\n",
      "In Function: 20\n",
      "After: 10\n"
     ]
    }
   ],
   "source": [
    "def test(t):\n",
    "    t=20\n",
    "    print(\"In Function:\",t)\n",
    "    \n",
    "x=10\n",
    "print(\"Before:\",x)\n",
    "test(x)\n",
    "print(\"After:\",x)"
   ]
  },
  {
   "cell_type": "markdown",
   "id": "9594bdd9",
   "metadata": {},
   "source": [
    "### 02. 다음 코드의 실행 결과를 쓰시오\n",
    "\n",
    "def sotring_function(list_value):\n",
    "    return list_value.sort()\n",
    "\n",
    "print(sotring_function([5,4,3,2,1]))"
   ]
  },
  {
   "cell_type": "code",
   "execution_count": 13,
   "id": "635a892d",
   "metadata": {},
   "outputs": [
    {
     "name": "stdout",
     "output_type": "stream",
     "text": [
      "None\n"
     ]
    }
   ],
   "source": [
    "def sotring_function(list_value):\n",
    "    return list_value.sort()\n",
    "\n",
    "print(sotring_function([5,4,3,2,1]))"
   ]
  },
  {
   "cell_type": "markdown",
   "id": "a029e86b",
   "metadata": {},
   "source": [
    "### 03. 다음 코드의 실행 결과를 쓰시오\n",
    "\n",
    "number=\"100\"\n",
    "def midterm(number):\n",
    "    result=\"\"\n",
    "    if number.isdigit()is True:\n",
    "        if number is 100:\n",
    "            if number/10 == 1:\n",
    "                result=True\n",
    "    else:\n",
    "        result=False\n",
    "        \n",
    "    return result"
   ]
  },
  {
   "cell_type": "code",
   "execution_count": 18,
   "id": "7b8f0845",
   "metadata": {},
   "outputs": [
    {
     "name": "stderr",
     "output_type": "stream",
     "text": [
      "<>:5: SyntaxWarning: \"is\" with a literal. Did you mean \"==\"?\n",
      "<>:5: SyntaxWarning: \"is\" with a literal. Did you mean \"==\"?\n",
      "<ipython-input-18-c6ed4a26dfd5>:5: SyntaxWarning: \"is\" with a literal. Did you mean \"==\"?\n",
      "  if number is 100:\n"
     ]
    }
   ],
   "source": [
    "number=\"100\"\n",
    "def midterm(number):\n",
    "    result=\"\"\n",
    "    if number.isdigit()is True:\n",
    "        if number is 100:\n",
    "            if number/10 == 1:\n",
    "                result=True\n",
    "    else:\n",
    "        result=False\n",
    "        \n",
    "    return result"
   ]
  },
  {
   "cell_type": "markdown",
   "id": "60592e4a",
   "metadata": {},
   "source": [
    "### 04. 다음과 같이 코드를 작성했을 때, 실행 결과로 알맞은 것은?\n",
    "\n",
    "def is_yes(your_answer):\n",
    "    if your_answer.upper()==\"YES\" or you_answer.upper()==\"Y\":\n",
    "        result=your_answer.lower()\n",
    "        \n",
    "print(is_yes(\"Yes\"))"
   ]
  },
  {
   "cell_type": "code",
   "execution_count": 19,
   "id": "b4b2d94a",
   "metadata": {},
   "outputs": [
    {
     "name": "stdout",
     "output_type": "stream",
     "text": [
      "None\n"
     ]
    }
   ],
   "source": [
    "def is_yes(your_answer):\n",
    "    if your_answer.upper()==\"YES\" or you_answer.upper()==\"Y\":\n",
    "        result=your_answer.lower()\n",
    "        \n",
    "print(is_yes(\"Yes\"))"
   ]
  },
  {
   "cell_type": "markdown",
   "id": "fa683846",
   "metadata": {},
   "source": [
    "### 05. 다음과 같이 코드를 작성했을 때, 실행 결과로 알맞은 것은?\n",
    "\n",
    "def add_and_mul(a,b,c):\n",
    "    return b+a*c+b\n",
    "\n",
    "print(add_and_mul(3,4,5)==63)"
   ]
  },
  {
   "cell_type": "code",
   "execution_count": null,
   "id": "13eb8445",
   "metadata": {},
   "outputs": [],
   "source": [
    "def add_and_mul(a,b,c):\n",
    "    return b+a*c+b\n",
    "\n",
    "print(add_and_mul(3,4,5)==63)"
   ]
  },
  {
   "cell_type": "markdown",
   "id": "23056b50",
   "metadata": {},
   "source": [
    "### 06. 다음과 같이 코드를 작성했을 때, 실행 결과로 알맞은 것은?\n",
    "\n",
    "def args_test_3(one,two,*args,three):\n",
    "    print(one+two+sum(args))\n",
    "    print(args)\n",
    "    \n",
    "args_test_3(3,4,5,6,7)"
   ]
  },
  {
   "cell_type": "code",
   "execution_count": null,
   "id": "4c09d6f0",
   "metadata": {},
   "outputs": [],
   "source": [
    "def args_test_3(one,two,*args,three):\n",
    "    print(one+two+sum(args))\n",
    "    print(args)\n",
    "    \n",
    "args_test_3(3,4,5,6,7)"
   ]
  },
  {
   "cell_type": "markdown",
   "id": "03a0a30d",
   "metadata": {},
   "source": [
    "### 07. 다음 코드의 실행 결과를 쓰시오.\n",
    "\n",
    "def rain(colors):\n",
    "    color.append(\"purple\")\n",
    "    colors=[\"green\",\"blue\"]\n",
    "    return colors\n",
    "\n",
    "rainbow=[\"red\",\"orange\"]\n",
    "print(rain(rainbow))"
   ]
  },
  {
   "cell_type": "code",
   "execution_count": 21,
   "id": "31f2213d",
   "metadata": {},
   "outputs": [
    {
     "name": "stdout",
     "output_type": "stream",
     "text": [
      "['green', 'blue']\n"
     ]
    }
   ],
   "source": [
    "def rain(colors):\n",
    "    colors.append(\"purple\")\n",
    "    colors=[\"green\",\"blue\"]\n",
    "    return colors\n",
    "\n",
    "rainbow=[\"red\",\"orange\"]\n",
    "print(rain(rainbow))"
   ]
  },
  {
   "cell_type": "markdown",
   "id": "03d894a0",
   "metadata": {},
   "source": [
    "### 08. 다음 코드의 실행 결과를 쓰시오.\n",
    "\n",
    "def funtion(value):\n",
    "    print(value ** 3)\n",
    "    \n",
    "print(function(2))"
   ]
  },
  {
   "cell_type": "code",
   "execution_count": 23,
   "id": "926d1e32",
   "metadata": {},
   "outputs": [
    {
     "name": "stdout",
     "output_type": "stream",
     "text": [
      "8\n",
      "None\n"
     ]
    }
   ],
   "source": [
    "def function(value):\n",
    "    print(value ** 3)\n",
    "    \n",
    "print(function(2))"
   ]
  },
  {
   "cell_type": "markdown",
   "id": "0b60a77d",
   "metadata": {},
   "source": [
    "### 09. 다음 코드의 실행 결과를 쓰시오.\n",
    "\n",
    "def get_apple(fruit):\n",
    "    fruit=list(fruit)\n",
    "    fruit.append(\"e\")\n",
    "    fruit=[\"apple\"]\n",
    "    return fruit\n",
    "\n",
    "fruit=\"appl\"\n",
    "get_apple(fruit)\n",
    "print(fruit)"
   ]
  },
  {
   "cell_type": "code",
   "execution_count": 24,
   "id": "3ab15f7a",
   "metadata": {},
   "outputs": [
    {
     "name": "stdout",
     "output_type": "stream",
     "text": [
      "appl\n"
     ]
    }
   ],
   "source": [
    "def get_apple(fruit):\n",
    "    fruit=list(fruit)\n",
    "    fruit.append(\"e\")\n",
    "    fruit=[\"apple\"]\n",
    "    return fruit\n",
    "\n",
    "fruit=\"appl\"\n",
    "get_apple(fruit)\n",
    "print(fruit)"
   ]
  },
  {
   "cell_type": "markdown",
   "id": "c7caa387",
   "metadata": {},
   "source": [
    "### 10. 다음과 같이 코드를 작성했을 때, 실행 결과로 알맞은 것은?\n",
    "\n",
    "def return_sentence(sentence, n):\n",
    "    sentence +=str(n)\n",
    "    n-=1\n",
    "    if n<0:\n",
    "        return sentence\n",
    "    else:\n",
    "        return(return_sentence(sentence, n))\n",
    "        \n",
    "\n",
    "sentence = \"I love you\"\n",
    "print(return_sentence(sentence, 5))"
   ]
  },
  {
   "cell_type": "code",
   "execution_count": 25,
   "id": "ea4af0d5",
   "metadata": {},
   "outputs": [
    {
     "name": "stdout",
     "output_type": "stream",
     "text": [
      "I love you543210\n"
     ]
    }
   ],
   "source": [
    "def return_sentence(sentence, n):\n",
    "    sentence +=str(n)\n",
    "    n-=1\n",
    "    if n<0:\n",
    "        return sentence\n",
    "    else:\n",
    "        return(return_sentence(sentence, n))\n",
    "        \n",
    "\n",
    "sentence = \"I love you\"\n",
    "print(return_sentence(sentence, 5))"
   ]
  },
  {
   "cell_type": "markdown",
   "id": "387451ab",
   "metadata": {},
   "source": [
    "### 11.다음 코드의 실행 결과를 쓰시오.\n",
    "\n",
    "def test(x,y):\n",
    "    tmp=x\n",
    "    x=y\n",
    "    y=tmp\n",
    "    return y.append(x)\n",
    "\n",
    "x=[\"y\"]\n",
    "y=['x']\n",
    "test(x,y)\n",
    "print(y)"
   ]
  },
  {
   "cell_type": "code",
   "execution_count": 30,
   "id": "07f3e569",
   "metadata": {},
   "outputs": [
    {
     "name": "stdout",
     "output_type": "stream",
     "text": [
      "['x']\n"
     ]
    }
   ],
   "source": [
    "def test(x,y):\n",
    "    tmp=x\n",
    "    x=y\n",
    "    y=tmp\n",
    "    return y.append(x)\n",
    "\n",
    "x=[\"y\"]\n",
    "y=[\"x\"]\n",
    "test(x,y)\n",
    "print(y)"
   ]
  },
  {
   "cell_type": "markdown",
   "id": "551c1bb5",
   "metadata": {},
   "source": [
    "### 12.  다음 코드의 실행 결과를 쓰시오.\n",
    "\n",
    "def countdown(n):\n",
    "    if n %2==0:\n",
    "        print(\"Even\")\n",
    "    else:\n",
    "        print(\"Odd\")\n",
    "        countdown(n-1)\n",
    "    countdown(3)"
   ]
  },
  {
   "cell_type": "code",
   "execution_count": 31,
   "id": "7f30f21b",
   "metadata": {},
   "outputs": [
    {
     "name": "stdout",
     "output_type": "stream",
     "text": [
      "Odd\n",
      "Even\n"
     ]
    }
   ],
   "source": [
    "def countdown(n):\n",
    "    if n %2==0:\n",
    "        print(\"Even\")\n",
    "    else:\n",
    "        print(\"Odd\")\n",
    "        countdown(n-1)\n",
    "countdown(3)"
   ]
  },
  {
   "cell_type": "markdown",
   "id": "2adf2e82",
   "metadata": {},
   "source": [
    "### 13. 다음 코드를 실행하면 결과값으로 120이 나온다. 빈칸에 들어갈 알맞은 코드를 작성하시오.\n",
    "\n",
    "def factorial_calculator(n):\n",
    "    if n in (0,1):\n",
    "        return 1\n",
    "    else:\n",
    "        return n *  @@@@\n",
    "print(factorial_calculator(5))\n",
    "\n"
   ]
  },
  {
   "cell_type": "code",
   "execution_count": 32,
   "id": "f47c4c21",
   "metadata": {},
   "outputs": [
    {
     "name": "stdout",
     "output_type": "stream",
     "text": [
      "120\n"
     ]
    }
   ],
   "source": [
    "def factorial_calculator(n):\n",
    "    if n in (0,1):\n",
    "        return 1\n",
    "    else:\n",
    "        return n * factorial_calculator(n-1)\n",
    "print(factorial_calculator(5))"
   ]
  },
  {
   "cell_type": "markdown",
   "id": "cf7115cc",
   "metadata": {},
   "source": [
    "### 14.  다음 코드의 실행 결과를 쓰시오.\n",
    "\n",
    "def calculrate_rectangle_area(rectangle_x,rectangle_y):\n",
    "    rectangle_x=3\n",
    "    rectangle_y=5\n",
    "    result=rectangle_x*rectangle_y\n",
    "    return result\n",
    "\n",
    "rectangle_x=2\n",
    "rectangle_y=4"
   ]
  },
  {
   "cell_type": "code",
   "execution_count": 38,
   "id": "d44cac8d",
   "metadata": {},
   "outputs": [],
   "source": [
    "def calculrate_rectangle_area(rectangle_x,rectangle_y):\n",
    "    rectangle_x=3\n",
    "    rectangle_y=5\n",
    "    result=rectangle_x*rectangle_y\n",
    "    return result\n",
    "\n",
    "rectangle_x=2\n",
    "rectangle_y=4"
   ]
  },
  {
   "cell_type": "markdown",
   "id": "4dfc0a4b",
   "metadata": {},
   "source": [
    "### 15. 다음 코드의 실행 결과를 쓰시오.\n",
    "\n",
    "def exam_func():"
   ]
  },
  {
   "cell_type": "code",
   "execution_count": 39,
   "id": "c682fd30",
   "metadata": {},
   "outputs": [
    {
     "name": "stdout",
     "output_type": "stream",
     "text": [
      "Value: 10\n",
      "Value: 20\n"
     ]
    }
   ],
   "source": [
    "def exam_func():\n",
    "    x=10\n",
    "    print(\"Value:\",x)\n",
    "    \n",
    "x=20\n",
    "exam_func()\n",
    "print(\"Value:\",x)"
   ]
  },
  {
   "cell_type": "markdown",
   "id": "872609d5",
   "metadata": {},
   "source": [
    "### 16. 다음 코드의 실행 결과를 쓰고, 그 결과값이 나오는 이유를 설명하시오.\n",
    "\n",
    "country=[\"Korea\",\"Japan\",\"China\"]\n",
    "country.append(\"Remove\")\n",
    "print(country.remove(\"Remove\"))"
   ]
  },
  {
   "cell_type": "code",
   "execution_count": 40,
   "id": "1d493b9b",
   "metadata": {},
   "outputs": [
    {
     "name": "stdout",
     "output_type": "stream",
     "text": [
      "None\n"
     ]
    }
   ],
   "source": [
    "country=[\"Korea\",\"Japan\",\"China\"]\n",
    "country.append(\"Remove\")\n",
    "print(country.remove(\"Remove\"))"
   ]
  }
 ],
 "metadata": {
  "kernelspec": {
   "display_name": "Python 3",
   "language": "python",
   "name": "python3"
  },
  "language_info": {
   "codemirror_mode": {
    "name": "ipython",
    "version": 3
   },
   "file_extension": ".py",
   "mimetype": "text/x-python",
   "name": "python",
   "nbconvert_exporter": "python",
   "pygments_lexer": "ipython3",
   "version": "3.8.8"
  }
 },
 "nbformat": 4,
 "nbformat_minor": 5
}
